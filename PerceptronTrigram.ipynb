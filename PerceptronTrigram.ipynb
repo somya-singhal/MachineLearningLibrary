{
 "cells": [
  {
   "cell_type": "code",
   "execution_count": null,
   "metadata": {
    "collapsed": true
   },
   "outputs": [],
   "source": [
    "import pandas as pd\n",
    "import numpy as np\n",
    "import matplotlib.pyplot as plt\n",
    "from sklearn.feature_extraction.text import CountVectorizer, TfidfVectorizer\n",
    "import time\n",
    "from scipy.sparse import hstack\n",
    "import math"
   ]
  },
  {
   "cell_type": "code",
   "execution_count": null,
   "metadata": {
    "collapsed": true
   },
   "outputs": [],
   "source": [
    "traindata = pd.read_csv('reviews_tr.csv')\n",
    "testdata = pd.read_csv('reviews_te.csv')"
   ]
  },
  {
   "cell_type": "code",
   "execution_count": null,
   "metadata": {
    "collapsed": true
   },
   "outputs": [],
   "source": [
    "train=traindata.head(500000)\n",
    "target_train=train['label'].replace(0,-1)\n",
    "del train['label']\n",
    "test=testdata\n",
    "target_test=test['label'].replace(0,-1)\n",
    "del test['label']"
   ]
  },
  {
   "cell_type": "code",
   "execution_count": null,
   "metadata": {
    "collapsed": false
   },
   "outputs": [],
   "source": [
    "traincv=CountVectorizer(ngram_range=(1,3))\n",
    "traincv_matrix=traincv.fit_transform(train['text'])\n",
    "testcv=CountVectorizer(ngram_range=(1,3))\n",
    "testcv_matrix=testcv.fit_transform(test['text'])"
   ]
  },
  {
   "cell_type": "code",
   "execution_count": null,
   "metadata": {
    "collapsed": true
   },
   "outputs": [],
   "source": [
    "def weights(data,labels):\n",
    "    W=np.zeros((1,data.shape[1]+1))\n",
    "    for j in range(2):\n",
    "        idx=np.arange(data.shape[0])\n",
    "        np.random.shuffle(idx)\n",
    "        count=0\n",
    "        total=W\n",
    "        for i in idx:\n",
    "            xtrain=data[i]\n",
    "            xtrain=hstack([xtrain,[[1]]])\n",
    "            value=labels[i]*xtrain.dot(W.T)\n",
    "            if value <= 0:\n",
    "                W = W + (labels[i] * xtrain)\n",
    "                #print(W)\n",
    "            if j == 1:\n",
    "                total += W\n",
    "            \n",
    "            count += 1\n",
    "            if count % 500000 == 0:\n",
    "                print(\" Pass {} completed {} data points\".format(j, count))\n",
    "        print(\"completed Pass\")\n",
    "    \n",
    "    weight=total/(data.shape[0]+1)\n",
    "    return weight"
   ]
  },
  {
   "cell_type": "code",
   "execution_count": null,
   "metadata": {
    "collapsed": true
   },
   "outputs": [],
   "source": [
    "start = time.time()\n",
    "tW = weights(traincv_matrix,target_train)\n",
    "print(time.time()-start)"
   ]
  },
  {
   "cell_type": "code",
   "execution_count": null,
   "metadata": {
    "collapsed": true
   },
   "outputs": [],
   "source": [
    "correct=0\n",
    "wrong=0\n",
    "for i in range(500000):\n",
    "    x = traincv_matrix[i].toarray()\n",
    "    x = np.append(x,[[1]])\n",
    "    pred_x = tW.dot(x)\n",
    "    if pred_x[0]>0:\n",
    "        pred_x = 1\n",
    "    \n",
    "    else:\n",
    "        pred_x = -1\n",
    "    if pred_x == target_train[i]:\n",
    "        correct += 1\n",
    "    else:\n",
    "        wrong+=1"
   ]
  },
  {
   "cell_type": "code",
   "execution_count": null,
   "metadata": {
    "collapsed": true
   },
   "outputs": [],
   "source": [
    "print(\"Train_accuracy is\", correct/500000)\n",
    "print(\"Train_error is\", wrong/500000)"
   ]
  },
  {
   "cell_type": "code",
   "execution_count": null,
   "metadata": {
    "collapsed": true
   },
   "outputs": [],
   "source": [
    "train_feat=pd.DataFrame.from_dict(traincv.vocabulary_,orient='index').sort_values(by=[0])\n",
    "test_feat=pd.DataFrame.from_dict(testcv.vocabulary_,orient='index').sort_values(by=[0])"
   ]
  },
  {
   "cell_type": "code",
   "execution_count": null,
   "metadata": {
    "collapsed": true
   },
   "outputs": [],
   "source": [
    "train_feat['features']=train_feat.index\n",
    "test_feat['features']=test_feat.index\n",
    "train_feat=train_feat.reset_index(drop=True)\n",
    "test_feat=test_feat.reset_index(drop=True)"
   ]
  },
  {
   "cell_type": "code",
   "execution_count": null,
   "metadata": {
    "collapsed": true
   },
   "outputs": [],
   "source": [
    "tr = pd.DataFrame([[train_feat.shape[0],'Bias']],columns = [0, 'features'])\n",
    "te = pd.DataFrame([[test_feat.shape[0],'Bias']],columns = [0, 'features'])"
   ]
  },
  {
   "cell_type": "code",
   "execution_count": null,
   "metadata": {
    "collapsed": true
   },
   "outputs": [],
   "source": [
    "train_feat = train_feat.append(tr,ignore_index = True)\n",
    "test_feat = test_feat.append(te, ignore_index  = True)"
   ]
  },
  {
   "cell_type": "code",
   "execution_count": null,
   "metadata": {
    "collapsed": true
   },
   "outputs": [],
   "source": [
    "train_feat['weight']=tW.T"
   ]
  },
  {
   "cell_type": "code",
   "execution_count": null,
   "metadata": {
    "collapsed": true
   },
   "outputs": [],
   "source": [
    "testweight = pd.merge(test_feat, train_feat, on = 'features', how = 'left').fillna(0)"
   ]
  },
  {
   "cell_type": "code",
   "execution_count": null,
   "metadata": {
    "collapsed": true
   },
   "outputs": [],
   "source": [
    "testweight = testweight['weight']"
   ]
  },
  {
   "cell_type": "code",
   "execution_count": null,
   "metadata": {
    "collapsed": true
   },
   "outputs": [],
   "source": [
    "correct1=0\n",
    "wrong1=0\n",
    "for i in range(testcv_matrix.shape[0]):\n",
    "    x = testcv_matrix[i].toarray()\n",
    "    x = np.append(x,[[1]])\n",
    "    pred_x = testweight.dot(x)\n",
    "    if pred_x>0:\n",
    "        pred_x = 1\n",
    "    \n",
    "    else:\n",
    "        pred_x = -1\n",
    "    \n",
    "    if pred_x == target_test[i]:\n",
    "        correct1 += 1\n",
    "    else:\n",
    "        wrong1 += 1\n",
    "        "
   ]
  },
  {
   "cell_type": "code",
   "execution_count": null,
   "metadata": {
    "collapsed": true
   },
   "outputs": [],
   "source": [
    "print(\"Test_accuracy is\", correct1/(testcv_matrix.shape[0]))\n",
    "print(\"Test_error is\", wrong1/(testcv_matrix.shape[0]))"
   ]
  },
  {
   "cell_type": "code",
   "execution_count": null,
   "metadata": {
    "collapsed": true
   },
   "outputs": [],
   "source": [
    "ind_max = np.argpartition(tW[0].tolist()[0], -10)[-10:]\n",
    "ind_min = np.argpartition(tW[0].tolist()[0], 10)[:10]"
   ]
  },
  {
   "cell_type": "code",
   "execution_count": null,
   "metadata": {
    "collapsed": true
   },
   "outputs": [],
   "source": [
    "print(\"Highest weight words: \")\n",
    "for i in ind_max:\n",
    "    print(traincv.get_feature_names()[i]) "
   ]
  },
  {
   "cell_type": "code",
   "execution_count": null,
   "metadata": {
    "collapsed": true
   },
   "outputs": [],
   "source": [
    "print(\"Lowest weight words: \")\n",
    "for i in ind_min:\n",
    "    print(traincv.get_feature_names()[i])"
   ]
  }
 ],
 "metadata": {
  "kernelspec": {
   "display_name": "Python 3",
   "language": "python",
   "name": "python3"
  },
  "language_info": {
   "codemirror_mode": {
    "name": "ipython",
    "version": 3
   },
   "file_extension": ".py",
   "mimetype": "text/x-python",
   "name": "python",
   "nbconvert_exporter": "python",
   "pygments_lexer": "ipython3",
   "version": "3.6.0"
  }
 },
 "nbformat": 4,
 "nbformat_minor": 2
}
