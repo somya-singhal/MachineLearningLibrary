{
 "cells": [
  {
   "cell_type": "markdown",
   "metadata": {},
   "source": [
    "# Term frequency-inverse document frequency (tf-idf) representation "
   ]
  },
  {
   "cell_type": "code",
   "execution_count": 451,
   "metadata": {
    "collapsed": true
   },
   "outputs": [],
   "source": [
    "import pandas as pd\n",
    "import numpy as np\n",
    "import matplotlib.pyplot as plt\n",
    "from sklearn.feature_extraction.text import CountVectorizer,TfidfVectorizer\n",
    "import time\n",
    "from scipy.sparse import hstack\n",
    "import math\n"
   ]
  },
  {
   "cell_type": "code",
   "execution_count": 452,
   "metadata": {
    "collapsed": true
   },
   "outputs": [],
   "source": [
    "traindata=pd.read_csv('reviews_tr.csv')\n",
    "testdata=pd.read_csv('reviews_te.csv')"
   ]
  },
  {
   "cell_type": "code",
   "execution_count": 453,
   "metadata": {
    "collapsed": true
   },
   "outputs": [],
   "source": [
    "train=traindata.head(500000)\n",
    "target_train=train['label']\n",
    "del train['label']\n",
    "test=testdata\n",
    "target_test=test['label']\n",
    "del test['label']"
   ]
  },
  {
   "cell_type": "code",
   "execution_count": 454,
   "metadata": {
    "collapsed": false
   },
   "outputs": [],
   "source": [
    "traincv=CountVectorizer()\n",
    "traincv_matrix=traincv.fit_transform(train['text'])\n",
    "testcv_matrix=traincv.transform(test['text'])"
   ]
  },
  {
   "cell_type": "code",
   "execution_count": 455,
   "metadata": {
    "collapsed": true
   },
   "outputs": [],
   "source": [
    "traincv_matrix_col = traincv_matrix.tocsc()"
   ]
  },
  {
   "cell_type": "code",
   "execution_count": 456,
   "metadata": {
    "collapsed": false,
    "scrolled": false
   },
   "outputs": [],
   "source": [
    "idf_count = list()\n",
    "for col in range(traincv_matrix.shape[1]):\n",
    "        D_count = len(traincv_matrix_col[:,col].nonzero())\n",
    "        D_count_new = math.log10(500000 / D_count)\n",
    "        idf_count.append(D_count_new)"
   ]
  },
  {
   "cell_type": "code",
   "execution_count": 457,
   "metadata": {
    "collapsed": false
   },
   "outputs": [],
   "source": [
    "traincv_matrix = traincv_matrix.multiply(idf_count)"
   ]
  },
  {
   "cell_type": "code",
   "execution_count": 458,
   "metadata": {
    "collapsed": true
   },
   "outputs": [],
   "source": [
    "target_train = target_train.replace(0, -1)\n",
    "target_test = target_test.replace(0, -1)"
   ]
  },
  {
   "cell_type": "code",
   "execution_count": 459,
   "metadata": {
    "collapsed": false
   },
   "outputs": [],
   "source": [
    "traincv_matrix = traincv_matrix.tocsr()"
   ]
  },
  {
   "cell_type": "code",
   "execution_count": 460,
   "metadata": {
    "collapsed": true
   },
   "outputs": [],
   "source": [
    "def weights(data,labels):\n",
    "    W=np.zeros((1,data.shape[1]+1))\n",
    "    for j in range(2):\n",
    "        idx=np.arange(data.shape[0])\n",
    "        np.random.shuffle(idx)\n",
    "        count=0\n",
    "        total=W\n",
    "        for i in idx:\n",
    "            xtrain=data[i]\n",
    "            xtrain=hstack([xtrain,[[1]]])\n",
    "            value=labels[i]*xtrain.dot(W.T)\n",
    "            if value <= 0:\n",
    "                W = W + (labels[i] * xtrain)\n",
    "                #print(W)\n",
    "            if j == 1:\n",
    "                total += W\n",
    "            \n",
    "            count += 1\n",
    "            if count % 500000 == 0:\n",
    "                print(\" Pass {} completed {} data points\".format(j, count))\n",
    "        print(\"completed Pass\")\n",
    "    \n",
    "    weight=total/(data.shape[0]+1)\n",
    "    return weight"
   ]
  },
  {
   "cell_type": "code",
   "execution_count": 461,
   "metadata": {
    "collapsed": false,
    "scrolled": true
   },
   "outputs": [
    {
     "name": "stdout",
     "output_type": "stream",
     "text": [
      " Pass 0 completed 500000 data points\n",
      "completed Pass\n",
      " Pass 1 completed 500000 data points\n",
      "completed Pass\n",
      "1793.426658153534\n"
     ]
    }
   ],
   "source": [
    "start = time.time()\n",
    "tW = weights(traincv_matrix,target_train)\n",
    "print(time.time()-start)"
   ]
  },
  {
   "cell_type": "code",
   "execution_count": 462,
   "metadata": {
    "collapsed": false
   },
   "outputs": [],
   "source": [
    "correct=0\n",
    "wrong=0\n",
    "for i in range(500000):\n",
    "    x = traincv_matrix[i].toarray()\n",
    "    x = np.append(x,[[1]])\n",
    "    pred_x = tW.dot(x)\n",
    "    if pred_x[0]>0:\n",
    "        pred_x = 1\n",
    "    \n",
    "    else:\n",
    "        pred_x = -1\n",
    "    if pred_x == target_train[i]:\n",
    "        correct += 1\n",
    "    else:\n",
    "        wrong+=1"
   ]
  },
  {
   "cell_type": "code",
   "execution_count": 463,
   "metadata": {
    "collapsed": false
   },
   "outputs": [
    {
     "name": "stdout",
     "output_type": "stream",
     "text": [
      "Train_accuracy is 0.897298\n",
      "Train_error is 0.102702\n"
     ]
    }
   ],
   "source": [
    "print(\"Train_accuracy is\", correct/500000)\n",
    "print(\"Train_error is\", wrong/500000)"
   ]
  },
  {
   "cell_type": "code",
   "execution_count": 464,
   "metadata": {
    "collapsed": true
   },
   "outputs": [],
   "source": [
    "testcv_matrix = testcv_matrix.multiply(idf_count)\n",
    "testcv_matrix = testcv_matrix.tocsr()"
   ]
  },
  {
   "cell_type": "code",
   "execution_count": 465,
   "metadata": {
    "collapsed": false
   },
   "outputs": [],
   "source": [
    "correct1=0\n",
    "wrong1=0\n",
    "for i in range(testcv_matrix.shape[0]):\n",
    "    x = testcv_matrix[i].toarray()\n",
    "    x = np.append(x,[[1]])\n",
    "    pred_x = tW.dot(x)\n",
    "    if pred_x>0:\n",
    "        pred_x = 1\n",
    "    \n",
    "    else:\n",
    "        pred_x = -1\n",
    "    \n",
    "    if pred_x == target_test[i]:\n",
    "        correct1 += 1\n",
    "    else:\n",
    "        wrong1 += 1\n",
    "        "
   ]
  },
  {
   "cell_type": "code",
   "execution_count": 466,
   "metadata": {
    "collapsed": false
   },
   "outputs": [
    {
     "name": "stdout",
     "output_type": "stream",
     "text": [
      "Test_accuracy is 0.8904667595479223\n",
      "Test_error is 0.10953324045207764\n"
     ]
    }
   ],
   "source": [
    "print(\"Test_accuracy is\", correct1/(testcv_matrix.shape[0]))\n",
    "print(\"Test_error is\", wrong1/(testcv_matrix.shape[0]))"
   ]
  },
  {
   "cell_type": "code",
   "execution_count": 479,
   "metadata": {
    "collapsed": false
   },
   "outputs": [],
   "source": [
    "ind_max = np.argpartition(tW[0].tolist()[0], -10)[-10:]\n",
    "ind_min = np.argpartition(tW[0].tolist()[0], 10)[:10]"
   ]
  },
  {
   "cell_type": "code",
   "execution_count": 480,
   "metadata": {
    "collapsed": false
   },
   "outputs": [
    {
     "name": "stdout",
     "output_type": "stream",
     "text": [
      "Highest weight words: \n",
      "exceeded\n",
      "superb\n",
      "skeptical\n",
      "gem\n",
      "incredible\n",
      "disappoint\n",
      "heaven\n",
      "perfection\n",
      "phenomenal\n",
      "yurm\n"
     ]
    }
   ],
   "source": [
    "print(\"Highest weight words: \")\n",
    "for i in ind_max:\n",
    "    print(traincv.get_feature_names()[i]) "
   ]
  },
  {
   "cell_type": "code",
   "execution_count": 481,
   "metadata": {
    "collapsed": false
   },
   "outputs": [
    {
     "name": "stdout",
     "output_type": "stream",
     "text": [
      "Highest weight words: \n",
      "underwhelming\n",
      "mediocre\n",
      "tasteless\n",
      "underwhelmed\n",
      "worst\n",
      "awful\n",
      "lacked\n",
      "flavorless\n",
      "meh\n",
      "horrible\n"
     ]
    }
   ],
   "source": [
    "print(\"Lowest weight words: \")\n",
    "for i in ind_min:\n",
    "    print(traincv.get_feature_names()[i])"
   ]
  },
  {
   "cell_type": "code",
   "execution_count": null,
   "metadata": {
    "collapsed": true
   },
   "outputs": [],
   "source": []
  }
 ],
 "metadata": {
  "kernelspec": {
   "display_name": "Python 3",
   "language": "python",
   "name": "python3"
  },
  "language_info": {
   "codemirror_mode": {
    "name": "ipython",
    "version": 3
   },
   "file_extension": ".py",
   "mimetype": "text/x-python",
   "name": "python",
   "nbconvert_exporter": "python",
   "pygments_lexer": "ipython3",
   "version": "3.6.0"
  }
 },
 "nbformat": 4,
 "nbformat_minor": 2
}
