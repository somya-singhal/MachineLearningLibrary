{
 "cells": [
  {
   "cell_type": "code",
   "execution_count": 14,
   "metadata": {},
   "outputs": [],
   "source": [
    "import numpy as np\n",
    "import pandas as pd\n",
    "from sklearn.preprocessing import StandardScaler\n",
    "from sklearn.linear_model import LogisticRegression, LinearRegression, SGDClassifier\n",
    "from sklearn.tree import DecisionTreeClassifier\n",
    "from sklearn import metrics\n",
    "from sklearn.metrics import mean_squared_error\n",
    "from sklearn.model_selection import GridSearchCV\n",
    "from sklearn.feature_selection import SelectFromModel\n"
   ]
  },
  {
   "cell_type": "code",
   "execution_count": 15,
   "metadata": {},
   "outputs": [],
   "source": [
    "df=pd.read_csv('adult-new.data', sep=', ', engine='python', header=None)\n",
    "train=pd.get_dummies(df, columns=[1, 3, 5 ,6, 7, 8, 9, 13, 14], prefix=None)\n",
    "df2=pd.read_csv('adult-new.test', sep=', ', engine='python', header=None)\n",
    "test=pd.get_dummies(df2, columns=[1, 3, 5 ,6, 7, 8, 9, 13, 14], prefix=None)\n",
    "test['13_Holand-Netherlands']=0\n"
   ]
  },
  {
   "cell_type": "code",
   "execution_count": 16,
   "metadata": {},
   "outputs": [],
   "source": [
    "columns_train=list(train.columns)\n",
    "columns_test=list(test.columns)\n",
    "ytrain =np.asarray(train['14_>50K']).astype(int)\n",
    "xtrain =np.asarray(train)[:,:-2].astype(float)\n",
    "ytest =np.asarray(test['14_>50K']).astype(int)\n",
    "xtest =np.asarray(test)[:,:-2].astype(float)\n",
    "feature_names=list(test.columns)\n",
    "female_col=feature_names.index('9_Female')\n",
    "male_col=feature_names.index('9_Male')\n"
   ]
  },
  {
   "cell_type": "code",
   "execution_count": 17,
   "metadata": {
    "collapsed": true
   },
   "outputs": [],
   "source": [
    "def misclass_rate(x,y, ypred):\n",
    "    female_idx=np.where(x[:,female_col] ==1)[0]\n",
    "    male_idx=np.where(x[:,male_col] ==1)[0]\n",
    "    yf=y[female_idx]\n",
    "    ym=y[male_idx]\n",
    "    yf_pred=ypred[female_idx]\n",
    "    ym_pred=ypred[male_idx]\n",
    "    FemaleTP_S=np.where(yf ==1)[0]   #True Positive Cases\n",
    "    FemaleTN_S=np.where(yf ==0)[0]   #True Negative Cases\n",
    "    FemaleFP_Q=np.where(yf_pred[FemaleTN_S] ==1)[0].shape[0]   #Number of False Positive\n",
    "    FemaleFN_Q=np.where(yf_pred[FemaleTP_S] ==0)[0].shape[0]  #Number of False Negative  \n",
    "    MaleTP_S=np.where(ym ==1)[0]\n",
    "    MaleTN_S=np.where(ym ==0)[0]\n",
    "    MaleFP_Q=np.where(ym_pred[MaleTN_S] ==1)[0].shape[0]\n",
    "    MaleFN_Q=np.where(ym_pred[MaleTP_S] ==0)[0].shape[0]\n",
    "    return {'Total Female':len(female_idx),\n",
    "            'Total Female misclassified':FemaleFP_Q+FemaleFN_Q, \n",
    "            'Female FP rate':FemaleFP_Q/len(female_idx), \n",
    "            'Female FN rate':FemaleFN_Q/len(female_idx),\n",
    "            'Total Male':len(male_idx),'Total Male misclassified':MaleFP_Q+MaleFN_Q, \n",
    "            'Male FP rate':MaleFP_Q/len(male_idx), \n",
    "            'Male FN rate':MaleFN_Q/len(male_idx)}\n",
    "    "
   ]
  },
  {
   "cell_type": "code",
   "execution_count": 18,
   "metadata": {},
   "outputs": [
    {
     "name": "stdout",
     "output_type": "stream",
     "text": [
      "Best parameter: {'C': 100}\n",
      "Logistic Regression training error: 0.146647830226\n",
      "Logistic Regression test error: 0.151219212579\n"
     ]
    }
   ],
   "source": [
    "scaler=StandardScaler()\n",
    "xtrain_s=scaler.fit(xtrain).transform(xtrain)\n",
    "xtest_s=scaler.fit(xtest).transform(xtest)\n",
    "tuned_param={'C': [1, 10, 100, 1000]}\n",
    "log_reg_gs = GridSearchCV(LogisticRegression(), tuned_param, cv=10,\n",
    "                       scoring='average_precision')\n",
    "log_reg_gs.fit(xtrain_s, ytrain)\n",
    "print(\"Best parameter:\", log_reg_gs.best_params_)\n",
    "ypredtrain=log_reg_gs.predict(xtrain_s)\n",
    "ypredtest = log_reg_gs.predict(xtest_s)\n",
    "trainerror=metrics.zero_one_loss(ypredtrain,ytrain)\n",
    "testerror=metrics.zero_one_loss(ypredtest,ytest)\n",
    "print('Logistic Regression training error:',trainerror)\n",
    "print('Logistic Regression test error:', testerror)\n"
   ]
  },
  {
   "cell_type": "code",
   "execution_count": 19,
   "metadata": {},
   "outputs": [
    {
     "name": "stdout",
     "output_type": "stream",
     "text": [
      "[['Logistic Regression', 0.01868640148011101, 0.05272895467160037, 0.07162559764619346, 0.11925340198602427]]\n"
     ]
    }
   ],
   "source": [
    "result_table_cols=['Algorithm','Female FP rate','Female FN rate','Male FP rate','Male FN rate']\n",
    "result_table=[]\n",
    "m_rate=misclass_rate(xtest, ytest, ypredtest)\n",
    "result_table.append(['Logistic Regression', m_rate['Female FP rate'], m_rate['Female FN rate']\n",
    "                     , m_rate['Male FP rate'], m_rate['Male FN rate']])\n",
    "print(result_table)"
   ]
  },
  {
   "cell_type": "code",
   "execution_count": 20,
   "metadata": {},
   "outputs": [
    {
     "name": "stdout",
     "output_type": "stream",
     "text": [
      "SVM training error: 0.149442584687\n",
      "SVM test error: 0.14851667588\n"
     ]
    }
   ],
   "source": [
    "#SVM with Stockastic gradiend and alpha = 10/n , alpha_sgd = 1 /(C_svc * n_samples)\n",
    "svm_sgd = SGDClassifier(alpha=0.01,average=False, class_weight=None, epsilon=0.01,eta0=0.1\n",
    "                    , fit_intercept=True, l1_ratio=0.15,learning_rate='optimal'\n",
    "                    , loss='hinge', n_iter=5, n_jobs=1,penalty='l2', power_t=0.5\n",
    "                    , random_state=None, shuffle=True,verbose=0,warm_start=False)\n",
    "svm_sgd.fit(xtrain_s, ytrain)\n",
    "ypredtrain=svm_sgd.predict(xtrain_s)\n",
    "ypredtest=svm_sgd.predict(xtest_s)\n",
    "trainerror=metrics.zero_one_loss(ypredtrain,ytrain)\n",
    "testerror=metrics.zero_one_loss(ypredtest,ytest)\n",
    "print('SVM training error:',trainerror)\n",
    "print('SVM test error:', testerror)\n",
    "m_rate=misclass_rate(xtest, ytest, ypredtest)\n",
    "result_table.append(['SVM', m_rate['Female FP rate'], m_rate['Female FN rate']\n",
    "                     , m_rate['Male FP rate'], m_rate['Male FN rate']])"
   ]
  },
  {
   "cell_type": "code",
   "execution_count": 21,
   "metadata": {},
   "outputs": [
    {
     "name": "stdout",
     "output_type": "stream",
     "text": [
      "Number of features after transformation: 8\n",
      "Decision Tree train error: 0.138447836369\n",
      "Decision Treetest error: 0.142313125729\n"
     ]
    }
   ],
   "source": [
    "#Decision Tree with feature selection max_depth=#of features selected\n",
    "select = SelectFromModel(DecisionTreeClassifier())\n",
    "select.fit(xtrain,ytrain)\n",
    "xtrain_s=select.transform(xtrain)\n",
    "xtest_s=select.transform(xtest)\n",
    "print('Number of features after transformation:',xtrain_s.shape[1])\n",
    "f=xtrain_s.shape[1]\n",
    "tree=DecisionTreeClassifier(class_weight=None, criterion='gini', max_depth=f,\n",
    "            max_features=None, max_leaf_nodes=None,\n",
    "            min_impurity_split=1e-07, min_samples_leaf=2,\n",
    "            min_samples_split=2, min_weight_fraction_leaf=0.0,\n",
    "            presort=False, random_state=None, splitter='best')\n",
    "tree.fit(xtrain_s, ytrain)\n",
    "ypredtrain=tree.predict(xtrain_s)\n",
    "ypredtest=tree.predict(xtest_s)\n",
    "trainerror=metrics.zero_one_loss(ypredtrain,ytrain)\n",
    "testerror=metrics.zero_one_loss(ypredtest,ytest)\n",
    "print('Decision Tree train error:',trainerror)\n",
    "print('Decision Treetest error:', testerror)\n"
   ]
  },
  {
   "cell_type": "code",
   "execution_count": 22,
   "metadata": {},
   "outputs": [
    {
     "name": "stdout",
     "output_type": "stream",
     "text": [
      "{'Total Female': 5405, 'Total Female misclassified': 374, 'Female FP rate': 0.012210915818686401, 'Female FN rate': 0.05698427382053654, 'Total Male': 10876, 'Total Male misclassified': 1943, 'Male FP rate': 0.06059212945936006, 'Male FN rate': 0.11805810959911732}\n"
     ]
    }
   ],
   "source": [
    "m_rate=misclass_rate(xtest, ytest, ypredtest);print(m_rate)\n",
    "result_table.append(['Decision Tree', m_rate['Female FP rate'], m_rate['Female FN rate']\n",
    "                     , m_rate['Male FP rate'], m_rate['Male FN rate']])\n"
   ]
  },
  {
   "cell_type": "code",
   "execution_count": 23,
   "metadata": {},
   "outputs": [],
   "source": [
    "result=pd.DataFrame(result_table)"
   ]
  },
  {
   "cell_type": "code",
   "execution_count": 24,
   "metadata": {},
   "outputs": [],
   "source": [
    "result.columns=['Classifier','Female FP','Female FN','Male FP','Male FN']"
   ]
  },
  {
   "cell_type": "code",
   "execution_count": 25,
   "metadata": {},
   "outputs": [
    {
     "data": {
      "text/html": [
       "<div>\n",
       "<table border=\"1\" class=\"dataframe\">\n",
       "  <thead>\n",
       "    <tr style=\"text-align: right;\">\n",
       "      <th></th>\n",
       "      <th>Classifier</th>\n",
       "      <th>Female FP</th>\n",
       "      <th>Female FN</th>\n",
       "      <th>Male FP</th>\n",
       "      <th>Male FN</th>\n",
       "    </tr>\n",
       "  </thead>\n",
       "  <tbody>\n",
       "    <tr>\n",
       "      <th>0</th>\n",
       "      <td>Logistic Regression</td>\n",
       "      <td>0.018686</td>\n",
       "      <td>0.052729</td>\n",
       "      <td>0.071626</td>\n",
       "      <td>0.119253</td>\n",
       "    </tr>\n",
       "    <tr>\n",
       "      <th>1</th>\n",
       "      <td>SVM</td>\n",
       "      <td>0.014616</td>\n",
       "      <td>0.057354</td>\n",
       "      <td>0.061052</td>\n",
       "      <td>0.125506</td>\n",
       "    </tr>\n",
       "    <tr>\n",
       "      <th>2</th>\n",
       "      <td>Decision Tree</td>\n",
       "      <td>0.012211</td>\n",
       "      <td>0.056984</td>\n",
       "      <td>0.060592</td>\n",
       "      <td>0.118058</td>\n",
       "    </tr>\n",
       "  </tbody>\n",
       "</table>\n",
       "</div>"
      ],
      "text/plain": [
       "            Classifier  Female FP  Female FN   Male FP   Male FN\n",
       "0  Logistic Regression   0.018686   0.052729  0.071626  0.119253\n",
       "1                  SVM   0.014616   0.057354  0.061052  0.125506\n",
       "2        Decision Tree   0.012211   0.056984  0.060592  0.118058"
      ]
     },
     "execution_count": 25,
     "metadata": {},
     "output_type": "execute_result"
    }
   ],
   "source": [
    "result\n"
   ]
  },
  {
   "cell_type": "code",
   "execution_count": null,
   "metadata": {
    "collapsed": true
   },
   "outputs": [],
   "source": []
  }
 ],
 "metadata": {
  "kernelspec": {
   "display_name": "Python 3",
   "language": "python",
   "name": "python3"
  },
  "language_info": {
   "codemirror_mode": {
    "name": "ipython",
    "version": 3
   },
   "file_extension": ".py",
   "mimetype": "text/x-python",
   "name": "python",
   "nbconvert_exporter": "python",
   "pygments_lexer": "ipython3",
   "version": "3.6.4"
  }
 },
 "nbformat": 4,
 "nbformat_minor": 2
}
