{
 "cells": [
  {
   "cell_type": "code",
   "execution_count": 1,
   "metadata": {},
   "outputs": [],
   "source": [
    "import numpy as np\n",
    "from scipy.io import loadmat\n",
    "from sklearn.preprocessing import StandardScaler\n",
    "from sklearn.linear_model import LogisticRegression, Perceptron, LinearRegression, SGDClassifier\n",
    "from sklearn.neural_network import MLPClassifier\n",
    "from sklearn.model_selection import train_test_split\n",
    "from sklearn.neighbors import KNeighborsClassifier\n",
    "from sklearn.ensemble import RandomForestClassifier\n",
    "from sklearn.svm import SVC\n",
    "from sklearn import metrics\n",
    "import mglearn\n",
    "import matplotlib.pyplot as plt\n",
    "from sklearn.metrics import mean_squared_error\n",
    "%matplotlib inline\n",
    "from sklearn.model_selection import GridSearchCV, KFold, cross_val_score, RandomizedSearchCV\n",
    "import datetime\n",
    "from sklearn.kernel_approximation import RBFSampler\n",
    "from sklearn import datasets, linear_model\n",
    "from sklearn.metrics import mean_squared_error, r2_score\n",
    "import pandas as pd\n",
    "import sklearn.linear_model\n",
    "from sklearn.ensemble import RandomForestRegressor\n",
    "from sklearn.model_selection import GridSearchCV"
   ]
  },
  {
   "cell_type": "code",
   "execution_count": 2,
   "metadata": {},
   "outputs": [],
   "source": [
    "data = loadmat('hw4data.mat')"
   ]
  },
  {
   "cell_type": "code",
   "execution_count": 3,
   "metadata": {},
   "outputs": [],
   "source": [
    "y=data['labels'].astype(int).ravel()\n",
    "x=data['data']\n",
    "z=data['quiz']"
   ]
  },
  {
   "cell_type": "code",
   "execution_count": 4,
   "metadata": {},
   "outputs": [],
   "source": [
    "m = len(z)"
   ]
  },
  {
   "cell_type": "code",
   "execution_count": 5,
   "metadata": {},
   "outputs": [],
   "source": [
    "xtrain, xtest, ytrain, ytest =train_test_split(x,y,test_size=0.25)"
   ]
  },
  {
   "cell_type": "code",
   "execution_count": 6,
   "metadata": {},
   "outputs": [],
   "source": [
    "scaler=StandardScaler()\n",
    "xtrain_s=scaler.fit(xtrain).transform(xtrain)\n",
    "xtest_s=scaler.fit(xtest).transform(xtest)\n",
    "zscaler=scaler.fit(z).transform(z)"
   ]
  },
  {
   "cell_type": "code",
   "execution_count": 7,
   "metadata": {},
   "outputs": [
    {
     "data": {
      "text/plain": [
       "0.5933837890625"
      ]
     },
     "execution_count": 7,
     "metadata": {},
     "output_type": "execute_result"
    }
   ],
   "source": [
    "ols = linear_model.LinearRegression()\n",
    "model = ols.fit(xtrain_s, ytrain)\n",
    "pred_train=ols.predict(xtest_s)\n",
    "\n",
    "df_ytrain = pd.DataFrame(ytest).rename(index=str, columns={0: \"out\"})\n",
    "df_ypredicted = pd.DataFrame(pred_train).rename(index=str, columns={0: \"out\"})\n",
    "\n",
    "df_ypredicted['outvalue']=df_ypredicted['out'].apply(lambda x: 1 if x>=0 else -1)\n",
    "\n",
    "df_ypredictedfinal = df_ypredicted['outvalue']\n",
    "\n",
    "metrics.mean_squared_error(df_ypredictedfinal,df_ytrain)"
   ]
  },
  {
   "cell_type": "code",
   "execution_count": 8,
   "metadata": {},
   "outputs": [
    {
     "data": {
      "text/plain": [
       "0.5933837890625"
      ]
     },
     "execution_count": 8,
     "metadata": {},
     "output_type": "execute_result"
    }
   ],
   "source": [
    "ridge = linear_model.Ridge(alpha=0.9)\n",
    "model = ridge.fit(xtrain_s, ytrain)\n",
    "pred_train=ridge.predict(xtest_s)\n",
    "\n",
    "df_ytrain = pd.DataFrame(ytest).rename(index=str, columns={0: \"out\"})\n",
    "df_ypredicted = pd.DataFrame(pred_train).rename(index=str, columns={0: \"out\"})\n",
    "\n",
    "df_ypredicted['outvalue']=df_ypredicted['out'].apply(lambda x: 1 if x>=0 else -1)\n",
    "\n",
    "df_ypredictedfinal = df_ypredicted['outvalue']\n",
    "\n",
    "metrics.mean_squared_error(df_ypredictedfinal,df_ytrain)"
   ]
  },
  {
   "cell_type": "code",
   "execution_count": 9,
   "metadata": {},
   "outputs": [],
   "source": [
    "n_estimators = [20,10]\n",
    "max_depth = [2,10]\n",
    "min_samples_leaf = [5,3]\n",
    "param_grid = {'n_estimators': n_estimators,\n",
    "               'max_depth': max_depth,\n",
    "               'min_samples_leaf': min_samples_leaf}"
   ]
  },
  {
   "cell_type": "code",
   "execution_count": 10,
   "metadata": {},
   "outputs": [
    {
     "data": {
      "text/plain": [
       "GridSearchCV(cv=None, error_score='raise',\n",
       "       estimator=RandomForestRegressor(bootstrap=True, criterion='mse', max_depth=None,\n",
       "           max_features='auto', max_leaf_nodes=None,\n",
       "           min_impurity_decrease=0.0, min_impurity_split=None,\n",
       "           min_samples_leaf=1, min_samples_split=2,\n",
       "           min_weight_fraction_leaf=0.0, n_estimators=10, n_jobs=1,\n",
       "           oob_score=False, random_state=None, verbose=0, warm_start=False),\n",
       "       fit_params=None, iid=True, n_jobs=-1,\n",
       "       param_grid={'n_estimators': [20, 10], 'max_depth': [2, 10], 'min_samples_leaf': [5, 3]},\n",
       "       pre_dispatch='2*n_jobs', refit=True, return_train_score='warn',\n",
       "       scoring=None, verbose=0)"
      ]
     },
     "execution_count": 10,
     "metadata": {},
     "output_type": "execute_result"
    }
   ],
   "source": [
    "regr_plain = RandomForestRegressor()\n",
    "regr = GridSearchCV(estimator = regr_plain, param_grid = param_grid, n_jobs = -1)\n",
    "regr.fit(xtrain_s, ytrain)"
   ]
  },
  {
   "cell_type": "code",
   "execution_count": 11,
   "metadata": {},
   "outputs": [
    {
     "data": {
      "text/plain": [
       "0.42995690294144395"
      ]
     },
     "execution_count": 11,
     "metadata": {},
     "output_type": "execute_result"
    }
   ],
   "source": [
    "pred_train = regr.predict(xtest_s)\n",
    "df_ytrain = pd.DataFrame(ytest).rename(index=str, columns={0: \"out\"})\n",
    "df_ypredicted = pd.DataFrame(pred_train).rename(index=str, columns={0: \"out\"})\n",
    "\n",
    "df_ypredicted['outvalue']=df_ypredicted['out']\n",
    "\n",
    "df_ypredictedfinal = df_ypredicted['outvalue']\n",
    "\n",
    "metrics.mean_squared_error(df_ypredictedfinal,df_ytrain)"
   ]
  },
  {
   "cell_type": "code",
   "execution_count": 12,
   "metadata": {},
   "outputs": [
    {
     "data": {
      "text/plain": [
       "1.1772085474940577"
      ]
     },
     "execution_count": 12,
     "metadata": {},
     "output_type": "execute_result"
    }
   ],
   "source": [
    "pred_train = regr.predict(xtest_s)\n",
    "df_ytrain = pd.DataFrame(ytest).rename(index=str, columns={0: \"out\"})\n",
    "df_ypredicted = pd.DataFrame(pred_train).rename(index=str, columns={0: \"out\"})\n",
    "\n",
    "df_ypredicted['outvalue']=df_ypredicted['out'].apply(lambda x: (x+1)/2.0)\n",
    "\n",
    "df_ypredictedfinal = df_ypredicted['outvalue']\n",
    "\n",
    "metrics.mean_squared_error(df_ypredictedfinal,df_ytrain)"
   ]
  },
  {
   "cell_type": "code",
   "execution_count": 13,
   "metadata": {},
   "outputs": [],
   "source": [
    "pred_trainnw = regr.predict(zscaler)\n",
    "df_ypredictednw = pd.DataFrame(pred_trainnw).rename(index=str, columns={0: \"out\"})\n",
    "\n",
    "\n",
    "df_ypredictednw['outvalue']=df_ypredictednw['out'].apply(lambda x: (x+1)/2.0)\n",
    "df_ypredictednw['outvalue']=df_ypredictednw['outvalue'].apply(lambda x: 1 if x>1 else x)\n",
    "df_ypredictednw['outvalue']=df_ypredictednw['outvalue'].apply(lambda x: 0 if x<0 else x)\n",
    "sum_value = df_ypredictednw['outvalue'].sum()\n",
    "final_ans = float(sum_value)/m"
   ]
  },
  {
   "cell_type": "code",
   "execution_count": 14,
   "metadata": {},
   "outputs": [
    {
     "data": {
      "text/plain": [
       "0.14975938375684994"
      ]
     },
     "execution_count": 14,
     "metadata": {},
     "output_type": "execute_result"
    }
   ],
   "source": [
    "final_ans"
   ]
  },
  {
   "cell_type": "code",
   "execution_count": null,
   "metadata": {},
   "outputs": [],
   "source": []
  }
 ],
 "metadata": {
  "kernelspec": {
   "display_name": "Python 3",
   "language": "python",
   "name": "python3"
  },
  "language_info": {
   "codemirror_mode": {
    "name": "ipython",
    "version": 3
   },
   "file_extension": ".py",
   "mimetype": "text/x-python",
   "name": "python",
   "nbconvert_exporter": "python",
   "pygments_lexer": "ipython3",
   "version": "3.6.4"
  }
 },
 "nbformat": 4,
 "nbformat_minor": 2
}
