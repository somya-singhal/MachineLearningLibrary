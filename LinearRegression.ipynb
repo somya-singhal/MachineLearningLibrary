{
 "cells": [
  {
   "cell_type": "code",
   "execution_count": 1,
   "metadata": {
    "collapsed": true
   },
   "outputs": [],
   "source": [
    "from scipy import io\n",
    "import pandas as pd\n",
    "import numpy as np\n",
    "import matplotlib.pyplot as plt\n",
    "%matplotlib inline\n",
    "from scipy.stats.stats import pearsonr"
   ]
  },
  {
   "cell_type": "code",
   "execution_count": 2,
   "metadata": {
    "collapsed": false
   },
   "outputs": [],
   "source": [
    "data=io.loadmat('wine.mat')"
   ]
  },
  {
   "cell_type": "code",
   "execution_count": 3,
   "metadata": {
    "collapsed": false
   },
   "outputs": [
    {
     "data": {
      "text/plain": [
       "{'__globals__': [],\n",
       " '__header__': b'MATLAB 5.0 MAT-file, Platform: MACI64, Created on: Tue Jan 16 17:20:24 2018',\n",
       " '__version__': '1.0',\n",
       " 'data': array([[ 1.        , -0.47687637, -0.47325129, ...,  0.69463614,\n",
       "         -0.70381277, -0.58602832],\n",
       "        [ 1.        ,  0.75412677, -0.22873765, ..., -1.12511895,\n",
       "         -1.38699752,  1.26371301],\n",
       "        [ 1.        , -1.40012873,  1.54398622, ...,  0.75738632,\n",
       "          0.25264589, -0.67010747],\n",
       "        ..., \n",
       "        [ 1.        , -0.86156485, -0.35099447, ..., -0.18386632,\n",
       "         -0.9087682 , -1.17458238],\n",
       "        [ 1.        , -1.47706643, -0.59550811, ...,  2.32614071,\n",
       "         -1.04540515,  0.4229215 ],\n",
       "        [ 1.        , -0.32300098, -0.5343797 , ..., -1.06236878,\n",
       "         -1.04540515, -1.25866153]]),\n",
       " 'labels': array([[6],\n",
       "        [6],\n",
       "        [6],\n",
       "        ..., \n",
       "        [6],\n",
       "        [8],\n",
       "        [5]], dtype=uint8),\n",
       " 'testdata': array([[ 1.        ,  3.37000845,  0.84100951, ..., -0.93686843,\n",
       "          0.79919369, -0.38984363],\n",
       "        [ 1.        , -0.09218789, -1.32904903, ..., -1.25061931,\n",
       "         -0.08894649,  1.17963386],\n",
       "        [ 1.        ,  1.67737913, -0.04535243, ..., -0.62311755,\n",
       "          0.04769046,  1.26371301],\n",
       "        ..., \n",
       "        [ 1.        ,  2.215943  ,  1.91075668, ...,  0.63188596,\n",
       "          0.73087521, -0.08155341],\n",
       "        [ 1.        ,  1.06187756,  0.90213792, ..., -1.31336948,\n",
       "         -1.04540515,  1.60002961],\n",
       "        [ 1.        , -0.47687637, -0.5343797 , ...,  0.82013649,\n",
       "         -0.9087682 ,  0.7592381 ]]),\n",
       " 'testlabels': array([[6],\n",
       "        [7],\n",
       "        [6],\n",
       "        ..., \n",
       "        [6],\n",
       "        [5],\n",
       "        [7]], dtype=uint8)}"
      ]
     },
     "execution_count": 3,
     "metadata": {},
     "output_type": "execute_result"
    }
   ],
   "source": [
    "data"
   ]
  },
  {
   "cell_type": "code",
   "execution_count": 4,
   "metadata": {
    "collapsed": true
   },
   "outputs": [],
   "source": [
    "df=pd.DataFrame(data=data['data'],columns=['constant','fixed acidity','volatile acidity','citric acid','residual sugar','chlorides','free sulfur dioxide','total sulfur dioxide','density','pH','sulphates','alcohol'])"
   ]
  },
  {
   "cell_type": "code",
   "execution_count": 5,
   "metadata": {
    "collapsed": false
   },
   "outputs": [
    {
     "data": {
      "text/plain": [
       "3249"
      ]
     },
     "execution_count": 5,
     "metadata": {},
     "output_type": "execute_result"
    }
   ],
   "source": [
    "len(df)"
   ]
  },
  {
   "cell_type": "code",
   "execution_count": 6,
   "metadata": {
    "collapsed": false
   },
   "outputs": [],
   "source": [
    "df['target']=data['labels']"
   ]
  },
  {
   "cell_type": "code",
   "execution_count": 7,
   "metadata": {
    "collapsed": false
   },
   "outputs": [
    {
     "data": {
      "text/html": [
       "<div>\n",
       "<style>\n",
       "    .dataframe thead tr:only-child th {\n",
       "        text-align: right;\n",
       "    }\n",
       "\n",
       "    .dataframe thead th {\n",
       "        text-align: left;\n",
       "    }\n",
       "\n",
       "    .dataframe tbody tr th {\n",
       "        vertical-align: top;\n",
       "    }\n",
       "</style>\n",
       "<table border=\"1\" class=\"dataframe\">\n",
       "  <thead>\n",
       "    <tr style=\"text-align: right;\">\n",
       "      <th></th>\n",
       "      <th>constant</th>\n",
       "      <th>fixed acidity</th>\n",
       "      <th>volatile acidity</th>\n",
       "      <th>citric acid</th>\n",
       "      <th>residual sugar</th>\n",
       "      <th>chlorides</th>\n",
       "      <th>free sulfur dioxide</th>\n",
       "      <th>total sulfur dioxide</th>\n",
       "      <th>density</th>\n",
       "      <th>pH</th>\n",
       "      <th>sulphates</th>\n",
       "      <th>alcohol</th>\n",
       "      <th>target</th>\n",
       "    </tr>\n",
       "  </thead>\n",
       "  <tbody>\n",
       "    <tr>\n",
       "      <th>0</th>\n",
       "      <td>1.0</td>\n",
       "      <td>-0.476876</td>\n",
       "      <td>-0.473251</td>\n",
       "      <td>-0.469390</td>\n",
       "      <td>1.326781</td>\n",
       "      <td>-0.323621</td>\n",
       "      <td>0.814313</td>\n",
       "      <td>1.089800</td>\n",
       "      <td>0.751055</td>\n",
       "      <td>0.694636</td>\n",
       "      <td>-0.703813</td>\n",
       "      <td>-0.586028</td>\n",
       "      <td>6</td>\n",
       "    </tr>\n",
       "    <tr>\n",
       "      <th>1</th>\n",
       "      <td>1.0</td>\n",
       "      <td>0.754127</td>\n",
       "      <td>-0.228738</td>\n",
       "      <td>0.878453</td>\n",
       "      <td>1.497674</td>\n",
       "      <td>-0.381332</td>\n",
       "      <td>1.209038</td>\n",
       "      <td>0.667122</td>\n",
       "      <td>-0.057235</td>\n",
       "      <td>-1.125119</td>\n",
       "      <td>-1.386998</td>\n",
       "      <td>1.263713</td>\n",
       "      <td>6</td>\n",
       "    </tr>\n",
       "    <tr>\n",
       "      <th>2</th>\n",
       "      <td>1.0</td>\n",
       "      <td>-1.400129</td>\n",
       "      <td>1.543986</td>\n",
       "      <td>-1.746294</td>\n",
       "      <td>0.344146</td>\n",
       "      <td>-0.323621</td>\n",
       "      <td>0.306809</td>\n",
       "      <td>0.543841</td>\n",
       "      <td>-0.097819</td>\n",
       "      <td>0.757386</td>\n",
       "      <td>0.252646</td>\n",
       "      <td>-0.670107</td>\n",
       "      <td>6</td>\n",
       "    </tr>\n",
       "    <tr>\n",
       "      <th>3</th>\n",
       "      <td>1.0</td>\n",
       "      <td>2.523694</td>\n",
       "      <td>-0.473251</td>\n",
       "      <td>1.091270</td>\n",
       "      <td>-0.745296</td>\n",
       "      <td>0.628617</td>\n",
       "      <td>-1.384871</td>\n",
       "      <td>-1.622380</td>\n",
       "      <td>0.984411</td>\n",
       "      <td>-0.246616</td>\n",
       "      <td>3.463614</td>\n",
       "      <td>0.338842</td>\n",
       "      <td>7</td>\n",
       "    </tr>\n",
       "    <tr>\n",
       "      <th>4</th>\n",
       "      <td>1.0</td>\n",
       "      <td>-0.092188</td>\n",
       "      <td>-1.023407</td>\n",
       "      <td>0.452818</td>\n",
       "      <td>0.429593</td>\n",
       "      <td>-0.121631</td>\n",
       "      <td>1.039870</td>\n",
       "      <td>1.160246</td>\n",
       "      <td>0.375656</td>\n",
       "      <td>0.820136</td>\n",
       "      <td>-0.088946</td>\n",
       "      <td>-0.754187</td>\n",
       "      <td>6</td>\n",
       "    </tr>\n",
       "  </tbody>\n",
       "</table>\n",
       "</div>"
      ],
      "text/plain": [
       "   constant  fixed acidity  volatile acidity  citric acid  residual sugar  \\\n",
       "0       1.0      -0.476876         -0.473251    -0.469390        1.326781   \n",
       "1       1.0       0.754127         -0.228738     0.878453        1.497674   \n",
       "2       1.0      -1.400129          1.543986    -1.746294        0.344146   \n",
       "3       1.0       2.523694         -0.473251     1.091270       -0.745296   \n",
       "4       1.0      -0.092188         -1.023407     0.452818        0.429593   \n",
       "\n",
       "   chlorides  free sulfur dioxide  total sulfur dioxide   density        pH  \\\n",
       "0  -0.323621             0.814313              1.089800  0.751055  0.694636   \n",
       "1  -0.381332             1.209038              0.667122 -0.057235 -1.125119   \n",
       "2  -0.323621             0.306809              0.543841 -0.097819  0.757386   \n",
       "3   0.628617            -1.384871             -1.622380  0.984411 -0.246616   \n",
       "4  -0.121631             1.039870              1.160246  0.375656  0.820136   \n",
       "\n",
       "   sulphates   alcohol  target  \n",
       "0  -0.703813 -0.586028       6  \n",
       "1  -1.386998  1.263713       6  \n",
       "2   0.252646 -0.670107       6  \n",
       "3   3.463614  0.338842       7  \n",
       "4  -0.088946 -0.754187       6  "
      ]
     },
     "execution_count": 7,
     "metadata": {},
     "output_type": "execute_result"
    }
   ],
   "source": [
    "df.head()"
   ]
  },
  {
   "cell_type": "code",
   "execution_count": 8,
   "metadata": {
    "collapsed": false
   },
   "outputs": [
    {
     "name": "stderr",
     "output_type": "stream",
     "text": [
      "/Users/ikyajupudy/anaconda/lib/python3.6/site-packages/statsmodels/compat/pandas.py:56: FutureWarning: The pandas.core.datetools module is deprecated and will be removed in a future version. Please use the pandas.tseries module instead.\n",
      "  from pandas.core import datetools\n"
     ]
    }
   ],
   "source": [
    "import statsmodels.api as sm"
   ]
  },
  {
   "cell_type": "code",
   "execution_count": 9,
   "metadata": {
    "collapsed": false
   },
   "outputs": [],
   "source": [
    "X=df[['constant','fixed acidity','volatile acidity','citric acid','residual sugar','chlorides','free sulfur dioxide','total sulfur dioxide','density','pH','sulphates','alcohol']]\n",
    "y=df['target']"
   ]
  },
  {
   "cell_type": "code",
   "execution_count": 10,
   "metadata": {
    "collapsed": true
   },
   "outputs": [],
   "source": [
    "X = sm.add_constant(X)"
   ]
  },
  {
   "cell_type": "code",
   "execution_count": 11,
   "metadata": {
    "collapsed": false
   },
   "outputs": [
    {
     "data": {
      "text/html": [
       "<div>\n",
       "<style>\n",
       "    .dataframe thead tr:only-child th {\n",
       "        text-align: right;\n",
       "    }\n",
       "\n",
       "    .dataframe thead th {\n",
       "        text-align: left;\n",
       "    }\n",
       "\n",
       "    .dataframe tbody tr th {\n",
       "        vertical-align: top;\n",
       "    }\n",
       "</style>\n",
       "<table border=\"1\" class=\"dataframe\">\n",
       "  <thead>\n",
       "    <tr style=\"text-align: right;\">\n",
       "      <th></th>\n",
       "      <th>constant</th>\n",
       "      <th>fixed acidity</th>\n",
       "      <th>volatile acidity</th>\n",
       "      <th>citric acid</th>\n",
       "      <th>residual sugar</th>\n",
       "      <th>chlorides</th>\n",
       "      <th>free sulfur dioxide</th>\n",
       "      <th>total sulfur dioxide</th>\n",
       "      <th>density</th>\n",
       "      <th>pH</th>\n",
       "      <th>sulphates</th>\n",
       "      <th>alcohol</th>\n",
       "    </tr>\n",
       "  </thead>\n",
       "  <tbody>\n",
       "    <tr>\n",
       "      <th>0</th>\n",
       "      <td>1.0</td>\n",
       "      <td>-0.476876</td>\n",
       "      <td>-0.473251</td>\n",
       "      <td>-0.469390</td>\n",
       "      <td>1.326781</td>\n",
       "      <td>-0.323621</td>\n",
       "      <td>0.814313</td>\n",
       "      <td>1.089800</td>\n",
       "      <td>0.751055</td>\n",
       "      <td>0.694636</td>\n",
       "      <td>-0.703813</td>\n",
       "      <td>-0.586028</td>\n",
       "    </tr>\n",
       "    <tr>\n",
       "      <th>1</th>\n",
       "      <td>1.0</td>\n",
       "      <td>0.754127</td>\n",
       "      <td>-0.228738</td>\n",
       "      <td>0.878453</td>\n",
       "      <td>1.497674</td>\n",
       "      <td>-0.381332</td>\n",
       "      <td>1.209038</td>\n",
       "      <td>0.667122</td>\n",
       "      <td>-0.057235</td>\n",
       "      <td>-1.125119</td>\n",
       "      <td>-1.386998</td>\n",
       "      <td>1.263713</td>\n",
       "    </tr>\n",
       "    <tr>\n",
       "      <th>2</th>\n",
       "      <td>1.0</td>\n",
       "      <td>-1.400129</td>\n",
       "      <td>1.543986</td>\n",
       "      <td>-1.746294</td>\n",
       "      <td>0.344146</td>\n",
       "      <td>-0.323621</td>\n",
       "      <td>0.306809</td>\n",
       "      <td>0.543841</td>\n",
       "      <td>-0.097819</td>\n",
       "      <td>0.757386</td>\n",
       "      <td>0.252646</td>\n",
       "      <td>-0.670107</td>\n",
       "    </tr>\n",
       "    <tr>\n",
       "      <th>3</th>\n",
       "      <td>1.0</td>\n",
       "      <td>2.523694</td>\n",
       "      <td>-0.473251</td>\n",
       "      <td>1.091270</td>\n",
       "      <td>-0.745296</td>\n",
       "      <td>0.628617</td>\n",
       "      <td>-1.384871</td>\n",
       "      <td>-1.622380</td>\n",
       "      <td>0.984411</td>\n",
       "      <td>-0.246616</td>\n",
       "      <td>3.463614</td>\n",
       "      <td>0.338842</td>\n",
       "    </tr>\n",
       "    <tr>\n",
       "      <th>4</th>\n",
       "      <td>1.0</td>\n",
       "      <td>-0.092188</td>\n",
       "      <td>-1.023407</td>\n",
       "      <td>0.452818</td>\n",
       "      <td>0.429593</td>\n",
       "      <td>-0.121631</td>\n",
       "      <td>1.039870</td>\n",
       "      <td>1.160246</td>\n",
       "      <td>0.375656</td>\n",
       "      <td>0.820136</td>\n",
       "      <td>-0.088946</td>\n",
       "      <td>-0.754187</td>\n",
       "    </tr>\n",
       "  </tbody>\n",
       "</table>\n",
       "</div>"
      ],
      "text/plain": [
       "   constant  fixed acidity  volatile acidity  citric acid  residual sugar  \\\n",
       "0       1.0      -0.476876         -0.473251    -0.469390        1.326781   \n",
       "1       1.0       0.754127         -0.228738     0.878453        1.497674   \n",
       "2       1.0      -1.400129          1.543986    -1.746294        0.344146   \n",
       "3       1.0       2.523694         -0.473251     1.091270       -0.745296   \n",
       "4       1.0      -0.092188         -1.023407     0.452818        0.429593   \n",
       "\n",
       "   chlorides  free sulfur dioxide  total sulfur dioxide   density        pH  \\\n",
       "0  -0.323621             0.814313              1.089800  0.751055  0.694636   \n",
       "1  -0.381332             1.209038              0.667122 -0.057235 -1.125119   \n",
       "2  -0.323621             0.306809              0.543841 -0.097819  0.757386   \n",
       "3   0.628617            -1.384871             -1.622380  0.984411 -0.246616   \n",
       "4  -0.121631             1.039870              1.160246  0.375656  0.820136   \n",
       "\n",
       "   sulphates   alcohol  \n",
       "0  -0.703813 -0.586028  \n",
       "1  -1.386998  1.263713  \n",
       "2   0.252646 -0.670107  \n",
       "3   3.463614  0.338842  \n",
       "4  -0.088946 -0.754187  "
      ]
     },
     "execution_count": 11,
     "metadata": {},
     "output_type": "execute_result"
    }
   ],
   "source": [
    "X.head()"
   ]
  },
  {
   "cell_type": "code",
   "execution_count": 12,
   "metadata": {
    "collapsed": false
   },
   "outputs": [],
   "source": [
    "est=sm.OLS(y,X)"
   ]
  },
  {
   "cell_type": "code",
   "execution_count": 13,
   "metadata": {
    "collapsed": false
   },
   "outputs": [],
   "source": [
    "est=est.fit()"
   ]
  },
  {
   "cell_type": "code",
   "execution_count": 14,
   "metadata": {
    "collapsed": false,
    "scrolled": true
   },
   "outputs": [
    {
     "name": "stdout",
     "output_type": "stream",
     "text": [
      "Squared loss ERM of the model :1761.41595306\n"
     ]
    }
   ],
   "source": [
    "pred_train=est.predict(X)\n",
    "print(\"Squared loss ERM of the model :\" + str(sum(pow((pred_train-y),2))))"
   ]
  },
  {
   "cell_type": "code",
   "execution_count": 15,
   "metadata": {
    "collapsed": true
   },
   "outputs": [],
   "source": [
    "testdata=pd.DataFrame(data=data['testdata'],columns=['constant','fixed acidity','volatile acidity','citric acid','residual sugar','chlorides','free sulfur dioxide','total sulfur dioxide','density','pH','sulphates','alcohol'])\n",
    "dup_testdata_sulphur = testdata['total sulfur dioxide']"
   ]
  },
  {
   "cell_type": "code",
   "execution_count": 16,
   "metadata": {
    "collapsed": true
   },
   "outputs": [],
   "source": [
    "testdata['target']=data['testlabels']"
   ]
  },
  {
   "cell_type": "code",
   "execution_count": 17,
   "metadata": {
    "collapsed": false
   },
   "outputs": [],
   "source": [
    "datapred=testdata[['constant','fixed acidity','volatile acidity','citric acid','residual sugar','chlorides','free sulfur dioxide','total sulfur dioxide','density','pH','sulphates','alcohol']]"
   ]
  },
  {
   "cell_type": "code",
   "execution_count": 18,
   "metadata": {
    "collapsed": true
   },
   "outputs": [],
   "source": [
    "predictions=est.predict(datapred)"
   ]
  },
  {
   "cell_type": "code",
   "execution_count": 19,
   "metadata": {
    "collapsed": false
   },
   "outputs": [
    {
     "name": "stdout",
     "output_type": "stream",
     "text": [
      "Squared loss ERM of the test data :1753.21751754\n"
     ]
    }
   ],
   "source": [
    "print(\"Squared loss ERM of the test data :\" + str(sum(pow((predictions-testdata['target']),2))))"
   ]
  },
  {
   "cell_type": "code",
   "execution_count": 20,
   "metadata": {
    "collapsed": false
   },
   "outputs": [
    {
     "data": {
      "text/plain": [
       "12"
      ]
     },
     "execution_count": 20,
     "metadata": {},
     "output_type": "execute_result"
    }
   ],
   "source": [
    "len(est.params)"
   ]
  },
  {
   "cell_type": "code",
   "execution_count": 21,
   "metadata": {
    "collapsed": true
   },
   "outputs": [],
   "source": [
    "import itertools"
   ]
  },
  {
   "cell_type": "code",
   "execution_count": 22,
   "metadata": {
    "collapsed": false
   },
   "outputs": [],
   "source": [
    "features=['fixed acidity','volatile acidity','citric acid','residual sugar','chlorides','free sulfur dioxide','total sulfur dioxide','density','pH','sulphates','alcohol']"
   ]
  },
  {
   "cell_type": "code",
   "execution_count": 23,
   "metadata": {
    "collapsed": false
   },
   "outputs": [],
   "source": [
    "count=0\n",
    "y=df['target']\n",
    "models={}\n",
    "combi={}\n",
    "for subset in itertools.combinations(features,3):\n",
    "    Xlist=[]\n",
    "    for x in subset:\n",
    "        Xlist.append(x)\n",
    "    X=df[Xlist]\n",
    "    X = sm.add_constant(X)\n",
    "    est=sm.OLS(y,X)\n",
    "    est=est.fit()\n",
    "    pred=est.predict(X)\n",
    "    model_pred=sum(pow((pred-df['target']),2))\n",
    "    combi[model_pred]=Xlist\n",
    "    models[model_pred]=est"
   ]
  },
  {
   "cell_type": "code",
   "execution_count": 24,
   "metadata": {
    "collapsed": false
   },
   "outputs": [],
   "source": [
    "best_model=models[min(list(combi.keys()))]"
   ]
  },
  {
   "cell_type": "code",
   "execution_count": 25,
   "metadata": {
    "collapsed": false
   },
   "outputs": [
    {
     "data": {
      "text/plain": [
       "const               5.826100\n",
       "volatile acidity   -0.244743\n",
       "sulphates           0.108471\n",
       "alcohol             0.373626\n",
       "dtype: float64"
      ]
     },
     "execution_count": 25,
     "metadata": {},
     "output_type": "execute_result"
    }
   ],
   "source": [
    "best_model.params"
   ]
  },
  {
   "cell_type": "code",
   "execution_count": 26,
   "metadata": {
    "collapsed": false
   },
   "outputs": [
    {
     "data": {
      "text/plain": [
       "1815.4584496758787"
      ]
     },
     "execution_count": 26,
     "metadata": {},
     "output_type": "execute_result"
    }
   ],
   "source": [
    "min(list(combi.keys()))"
   ]
  },
  {
   "cell_type": "code",
   "execution_count": 27,
   "metadata": {
    "collapsed": false
   },
   "outputs": [],
   "source": [
    "min_error_params=combi[min(list(combi.keys()))]"
   ]
  },
  {
   "cell_type": "code",
   "execution_count": 28,
   "metadata": {
    "collapsed": false
   },
   "outputs": [
    {
     "name": "stdout",
     "output_type": "stream",
     "text": [
      "1807.66010597\n"
     ]
    }
   ],
   "source": [
    "testd=testdata[min_error_params]\n",
    "#print(testd)\n",
    "testd=sm.add_constant(testd)\n",
    "pred_tuple=best_model.predict(testd)\n",
    "print(sum(pow((pred_tuple-testdata['target']),2)))\n",
    "best_model.params\n",
    "correlation=testd.corr(method='pearson')"
   ]
  },
  {
   "cell_type": "code",
   "execution_count": 29,
   "metadata": {
    "collapsed": false
   },
   "outputs": [
    {
     "name": "stdout",
     "output_type": "stream",
     "text": [
      "['volatile acidity', 'sulphates', 'alcohol']\n"
     ]
    }
   ],
   "source": [
    "print(min_error_params)"
   ]
  },
  {
   "cell_type": "code",
   "execution_count": 30,
   "metadata": {
    "collapsed": false
   },
   "outputs": [
    {
     "name": "stdout",
     "output_type": "stream",
     "text": [
      "3248\n",
      "(3248, 13)\n"
     ]
    }
   ],
   "source": [
    "current_sulphur = testdata['total sulfur dioxide']\n",
    "print(sum(current_sulphur == dup_testdata_sulphur))\n",
    "print(testdata.shape)"
   ]
  },
  {
   "cell_type": "code",
   "execution_count": 31,
   "metadata": {
    "collapsed": false
   },
   "outputs": [
    {
     "data": {
      "text/html": [
       "<div>\n",
       "<style>\n",
       "    .dataframe thead tr:only-child th {\n",
       "        text-align: right;\n",
       "    }\n",
       "\n",
       "    .dataframe thead th {\n",
       "        text-align: left;\n",
       "    }\n",
       "\n",
       "    .dataframe tbody tr th {\n",
       "        vertical-align: top;\n",
       "    }\n",
       "</style>\n",
       "<table border=\"1\" class=\"dataframe\">\n",
       "  <thead>\n",
       "    <tr style=\"text-align: right;\">\n",
       "      <th></th>\n",
       "      <th>constant</th>\n",
       "      <th>fixed acidity</th>\n",
       "      <th>volatile acidity</th>\n",
       "      <th>citric acid</th>\n",
       "      <th>residual sugar</th>\n",
       "      <th>chlorides</th>\n",
       "      <th>free sulfur dioxide</th>\n",
       "      <th>total sulfur dioxide</th>\n",
       "      <th>density</th>\n",
       "      <th>pH</th>\n",
       "      <th>sulphates</th>\n",
       "      <th>alcohol</th>\n",
       "      <th>target</th>\n",
       "    </tr>\n",
       "  </thead>\n",
       "  <tbody>\n",
       "    <tr>\n",
       "      <th>constant</th>\n",
       "      <td>NaN</td>\n",
       "      <td>NaN</td>\n",
       "      <td>NaN</td>\n",
       "      <td>NaN</td>\n",
       "      <td>NaN</td>\n",
       "      <td>NaN</td>\n",
       "      <td>NaN</td>\n",
       "      <td>NaN</td>\n",
       "      <td>NaN</td>\n",
       "      <td>NaN</td>\n",
       "      <td>NaN</td>\n",
       "      <td>NaN</td>\n",
       "      <td>NaN</td>\n",
       "    </tr>\n",
       "    <tr>\n",
       "      <th>fixed acidity</th>\n",
       "      <td>NaN</td>\n",
       "      <td>1.000000</td>\n",
       "      <td>0.208286</td>\n",
       "      <td>0.338624</td>\n",
       "      <td>-0.111655</td>\n",
       "      <td>0.287892</td>\n",
       "      <td>-0.286422</td>\n",
       "      <td>-0.327450</td>\n",
       "      <td>0.450545</td>\n",
       "      <td>-0.257599</td>\n",
       "      <td>0.296863</td>\n",
       "      <td>-0.101017</td>\n",
       "      <td>-0.068061</td>\n",
       "    </tr>\n",
       "    <tr>\n",
       "      <th>volatile acidity</th>\n",
       "      <td>NaN</td>\n",
       "      <td>0.208286</td>\n",
       "      <td>1.000000</td>\n",
       "      <td>-0.375563</td>\n",
       "      <td>-0.196450</td>\n",
       "      <td>0.362829</td>\n",
       "      <td>-0.353564</td>\n",
       "      <td>-0.422007</td>\n",
       "      <td>0.259082</td>\n",
       "      <td>0.250111</td>\n",
       "      <td>0.211035</td>\n",
       "      <td>-0.037626</td>\n",
       "      <td>-0.265473</td>\n",
       "    </tr>\n",
       "    <tr>\n",
       "      <th>citric acid</th>\n",
       "      <td>NaN</td>\n",
       "      <td>0.338624</td>\n",
       "      <td>-0.375563</td>\n",
       "      <td>1.000000</td>\n",
       "      <td>0.146684</td>\n",
       "      <td>0.052269</td>\n",
       "      <td>0.137161</td>\n",
       "      <td>0.195286</td>\n",
       "      <td>0.106016</td>\n",
       "      <td>-0.335210</td>\n",
       "      <td>0.069663</td>\n",
       "      <td>-0.007105</td>\n",
       "      <td>0.102307</td>\n",
       "    </tr>\n",
       "    <tr>\n",
       "      <th>residual sugar</th>\n",
       "      <td>NaN</td>\n",
       "      <td>-0.111655</td>\n",
       "      <td>-0.196450</td>\n",
       "      <td>0.146684</td>\n",
       "      <td>1.000000</td>\n",
       "      <td>-0.127144</td>\n",
       "      <td>0.385025</td>\n",
       "      <td>0.481914</td>\n",
       "      <td>0.566198</td>\n",
       "      <td>-0.255788</td>\n",
       "      <td>-0.171889</td>\n",
       "      <td>-0.346262</td>\n",
       "      <td>-0.017396</td>\n",
       "    </tr>\n",
       "    <tr>\n",
       "      <th>chlorides</th>\n",
       "      <td>NaN</td>\n",
       "      <td>0.287892</td>\n",
       "      <td>0.362829</td>\n",
       "      <td>0.052269</td>\n",
       "      <td>-0.127144</td>\n",
       "      <td>1.000000</td>\n",
       "      <td>-0.169628</td>\n",
       "      <td>-0.260881</td>\n",
       "      <td>0.343797</td>\n",
       "      <td>0.012459</td>\n",
       "      <td>0.407115</td>\n",
       "      <td>-0.267461</td>\n",
       "      <td>-0.192667</td>\n",
       "    </tr>\n",
       "    <tr>\n",
       "      <th>free sulfur dioxide</th>\n",
       "      <td>NaN</td>\n",
       "      <td>-0.286422</td>\n",
       "      <td>-0.353564</td>\n",
       "      <td>0.137161</td>\n",
       "      <td>0.385025</td>\n",
       "      <td>-0.169628</td>\n",
       "      <td>1.000000</td>\n",
       "      <td>0.712698</td>\n",
       "      <td>0.019865</td>\n",
       "      <td>-0.132966</td>\n",
       "      <td>-0.173192</td>\n",
       "      <td>-0.167406</td>\n",
       "      <td>0.061210</td>\n",
       "    </tr>\n",
       "    <tr>\n",
       "      <th>total sulfur dioxide</th>\n",
       "      <td>NaN</td>\n",
       "      <td>-0.327450</td>\n",
       "      <td>-0.422007</td>\n",
       "      <td>0.195286</td>\n",
       "      <td>0.481914</td>\n",
       "      <td>-0.260881</td>\n",
       "      <td>0.712698</td>\n",
       "      <td>1.000000</td>\n",
       "      <td>0.036419</td>\n",
       "      <td>-0.232116</td>\n",
       "      <td>-0.252296</td>\n",
       "      <td>-0.263111</td>\n",
       "      <td>-0.037652</td>\n",
       "    </tr>\n",
       "    <tr>\n",
       "      <th>density</th>\n",
       "      <td>NaN</td>\n",
       "      <td>0.450545</td>\n",
       "      <td>0.259082</td>\n",
       "      <td>0.106016</td>\n",
       "      <td>0.566198</td>\n",
       "      <td>0.343797</td>\n",
       "      <td>0.019865</td>\n",
       "      <td>0.036419</td>\n",
       "      <td>1.000000</td>\n",
       "      <td>0.008230</td>\n",
       "      <td>0.262685</td>\n",
       "      <td>-0.679593</td>\n",
       "      <td>-0.298208</td>\n",
       "    </tr>\n",
       "    <tr>\n",
       "      <th>pH</th>\n",
       "      <td>NaN</td>\n",
       "      <td>-0.257599</td>\n",
       "      <td>0.250111</td>\n",
       "      <td>-0.335210</td>\n",
       "      <td>-0.255788</td>\n",
       "      <td>0.012459</td>\n",
       "      <td>-0.132966</td>\n",
       "      <td>-0.232116</td>\n",
       "      <td>0.008230</td>\n",
       "      <td>1.000000</td>\n",
       "      <td>0.177647</td>\n",
       "      <td>0.117113</td>\n",
       "      <td>0.005045</td>\n",
       "    </tr>\n",
       "    <tr>\n",
       "      <th>sulphates</th>\n",
       "      <td>NaN</td>\n",
       "      <td>0.296863</td>\n",
       "      <td>0.211035</td>\n",
       "      <td>0.069663</td>\n",
       "      <td>-0.171889</td>\n",
       "      <td>0.407115</td>\n",
       "      <td>-0.173192</td>\n",
       "      <td>-0.252296</td>\n",
       "      <td>0.262685</td>\n",
       "      <td>0.177647</td>\n",
       "      <td>1.000000</td>\n",
       "      <td>-0.021943</td>\n",
       "      <td>0.014147</td>\n",
       "    </tr>\n",
       "    <tr>\n",
       "      <th>alcohol</th>\n",
       "      <td>NaN</td>\n",
       "      <td>-0.101017</td>\n",
       "      <td>-0.037626</td>\n",
       "      <td>-0.007105</td>\n",
       "      <td>-0.346262</td>\n",
       "      <td>-0.267461</td>\n",
       "      <td>-0.167406</td>\n",
       "      <td>-0.263111</td>\n",
       "      <td>-0.679593</td>\n",
       "      <td>0.117113</td>\n",
       "      <td>-0.021943</td>\n",
       "      <td>1.000000</td>\n",
       "      <td>0.448992</td>\n",
       "    </tr>\n",
       "    <tr>\n",
       "      <th>target</th>\n",
       "      <td>NaN</td>\n",
       "      <td>-0.068061</td>\n",
       "      <td>-0.265473</td>\n",
       "      <td>0.102307</td>\n",
       "      <td>-0.017396</td>\n",
       "      <td>-0.192667</td>\n",
       "      <td>0.061210</td>\n",
       "      <td>-0.037652</td>\n",
       "      <td>-0.298208</td>\n",
       "      <td>0.005045</td>\n",
       "      <td>0.014147</td>\n",
       "      <td>0.448992</td>\n",
       "      <td>1.000000</td>\n",
       "    </tr>\n",
       "  </tbody>\n",
       "</table>\n",
       "</div>"
      ],
      "text/plain": [
       "                      constant  fixed acidity  volatile acidity  citric acid  \\\n",
       "constant                   NaN            NaN               NaN          NaN   \n",
       "fixed acidity              NaN       1.000000          0.208286     0.338624   \n",
       "volatile acidity           NaN       0.208286          1.000000    -0.375563   \n",
       "citric acid                NaN       0.338624         -0.375563     1.000000   \n",
       "residual sugar             NaN      -0.111655         -0.196450     0.146684   \n",
       "chlorides                  NaN       0.287892          0.362829     0.052269   \n",
       "free sulfur dioxide        NaN      -0.286422         -0.353564     0.137161   \n",
       "total sulfur dioxide       NaN      -0.327450         -0.422007     0.195286   \n",
       "density                    NaN       0.450545          0.259082     0.106016   \n",
       "pH                         NaN      -0.257599          0.250111    -0.335210   \n",
       "sulphates                  NaN       0.296863          0.211035     0.069663   \n",
       "alcohol                    NaN      -0.101017         -0.037626    -0.007105   \n",
       "target                     NaN      -0.068061         -0.265473     0.102307   \n",
       "\n",
       "                      residual sugar  chlorides  free sulfur dioxide  \\\n",
       "constant                         NaN        NaN                  NaN   \n",
       "fixed acidity              -0.111655   0.287892            -0.286422   \n",
       "volatile acidity           -0.196450   0.362829            -0.353564   \n",
       "citric acid                 0.146684   0.052269             0.137161   \n",
       "residual sugar              1.000000  -0.127144             0.385025   \n",
       "chlorides                  -0.127144   1.000000            -0.169628   \n",
       "free sulfur dioxide         0.385025  -0.169628             1.000000   \n",
       "total sulfur dioxide        0.481914  -0.260881             0.712698   \n",
       "density                     0.566198   0.343797             0.019865   \n",
       "pH                         -0.255788   0.012459            -0.132966   \n",
       "sulphates                  -0.171889   0.407115            -0.173192   \n",
       "alcohol                    -0.346262  -0.267461            -0.167406   \n",
       "target                     -0.017396  -0.192667             0.061210   \n",
       "\n",
       "                      total sulfur dioxide   density        pH  sulphates  \\\n",
       "constant                               NaN       NaN       NaN        NaN   \n",
       "fixed acidity                    -0.327450  0.450545 -0.257599   0.296863   \n",
       "volatile acidity                 -0.422007  0.259082  0.250111   0.211035   \n",
       "citric acid                       0.195286  0.106016 -0.335210   0.069663   \n",
       "residual sugar                    0.481914  0.566198 -0.255788  -0.171889   \n",
       "chlorides                        -0.260881  0.343797  0.012459   0.407115   \n",
       "free sulfur dioxide               0.712698  0.019865 -0.132966  -0.173192   \n",
       "total sulfur dioxide              1.000000  0.036419 -0.232116  -0.252296   \n",
       "density                           0.036419  1.000000  0.008230   0.262685   \n",
       "pH                               -0.232116  0.008230  1.000000   0.177647   \n",
       "sulphates                        -0.252296  0.262685  0.177647   1.000000   \n",
       "alcohol                          -0.263111 -0.679593  0.117113  -0.021943   \n",
       "target                           -0.037652 -0.298208  0.005045   0.014147   \n",
       "\n",
       "                       alcohol    target  \n",
       "constant                   NaN       NaN  \n",
       "fixed acidity        -0.101017 -0.068061  \n",
       "volatile acidity     -0.037626 -0.265473  \n",
       "citric acid          -0.007105  0.102307  \n",
       "residual sugar       -0.346262 -0.017396  \n",
       "chlorides            -0.267461 -0.192667  \n",
       "free sulfur dioxide  -0.167406  0.061210  \n",
       "total sulfur dioxide -0.263111 -0.037652  \n",
       "density              -0.679593 -0.298208  \n",
       "pH                    0.117113  0.005045  \n",
       "sulphates            -0.021943  0.014147  \n",
       "alcohol               1.000000  0.448992  \n",
       "target                0.448992  1.000000  "
      ]
     },
     "execution_count": 31,
     "metadata": {},
     "output_type": "execute_result"
    }
   ],
   "source": [
    "testdata.corr()"
   ]
  },
  {
   "cell_type": "code",
   "execution_count": null,
   "metadata": {
    "collapsed": true
   },
   "outputs": [],
   "source": []
  }
 ],
 "metadata": {
  "kernelspec": {
   "display_name": "Python 3",
   "language": "python",
   "name": "python3"
  },
  "language_info": {
   "codemirror_mode": {
    "name": "ipython",
    "version": 3
   },
   "file_extension": ".py",
   "mimetype": "text/x-python",
   "name": "python",
   "nbconvert_exporter": "python",
   "pygments_lexer": "ipython3",
   "version": "3.6.0"
  }
 },
 "nbformat": 4,
 "nbformat_minor": 2
}
